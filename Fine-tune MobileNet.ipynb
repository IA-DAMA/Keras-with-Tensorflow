{
 "cells": [
  {
   "cell_type": "markdown",
   "id": "760d4249",
   "metadata": {},
   "source": [
    "# MobileNet"
   ]
  },
  {
   "cell_type": "markdown",
   "id": "99273b58",
   "metadata": {},
   "source": [
    "# Fine-tune MobileNet on sign language digits"
   ]
  },
  {
   "cell_type": "markdown",
   "id": "a4dc81e1",
   "metadata": {},
   "source": [
    "**Image preparation**"
   ]
  },
  {
   "cell_type": "markdown",
   "id": "d32b6088",
   "metadata": {},
   "source": [
    "Dataset: hhtp://github.com/ardamavi/Sign-Language-Digits-Daset\n",
    "\n",
    "    * 10 classes (digits 0-9)\n",
    "    * Class data:\n",
    "        * class 0: 205 images\n",
    "        * class 1: 206 images\n",
    "        * class 2: 206 images\n",
    "        * class 3: 206 images\n",
    "        * class 4: 207 images\n",
    "        * class 5: 207 images\n",
    "        * class 6: 207 images\n",
    "        * class 7: 206 images\n",
    "        * class 8: 208 images\n",
    "        * class 9: 204 images\n",
    "        \n",
    "    Download data and save in current directory/data/Sign-Language-Digits-Dataset. Extract sub-directories labeleb 0 through 9 and nest directories directly umderneath Sign-Language-Digits-Dataset directory. Directory structure should be like this:\n",
    "    \n",
    "    * data.../\n",
    "       * Sign-Language-Digits-Dataset/\n",
    "           * 0/\n",
    "           * 1/\n",
    "           * ...\n",
    "           * 9/\n",
    "    "
   ]
  },
  {
   "cell_type": "markdown",
   "id": "b2cb3a95",
   "metadata": {},
   "source": [
    "**Importing necessary packs**"
   ]
  },
  {
   "cell_type": "code",
   "execution_count": 6,
   "id": "574b08c3",
   "metadata": {},
   "outputs": [],
   "source": [
    "import numpy as np\n",
    "import tensorflow as tf\n",
    "from tensorflow import keras\n",
    "from tensorflow.keras.layers import Dense, Activation, GlobalAveragePooling2D\n",
    "from tensorflow.keras.optimizers import Adam\n",
    "from tensorflow.keras.metrics import categorical_crossentropy\n",
    "from tensorflow.keras.preprocessing.image import ImageDataGenerator\n",
    "from tensorflow.keras.preprocessing import image\n",
    "from tensorflow.keras.models import Model\n",
    "from tensorflow.keras.applications import imagenet_utils\n",
    "from sklearn.metrics import confusion_matrix\n",
    "import itertools\n",
    "import os\n",
    "import shutil\n",
    "import random\n",
    "import matplotlib.pyplot as plt\n",
    "%matplotlib inline"
   ]
  },
  {
   "cell_type": "markdown",
   "id": "4836f2cc",
   "metadata": {},
   "source": [
    "**Then organize data into train, valid, test dirs**"
   ]
  },
  {
   "cell_type": "code",
   "execution_count": 7,
   "id": "4c3b426c",
   "metadata": {},
   "outputs": [],
   "source": [
    "os.chdir('D:\\ML\\DatasetSLDD\\Sign-Language-Digits-Dataset')\n",
    "if os.path.isdir('train/0/') is False:\n",
    "    os.mkdir('train')\n",
    "    os.mkdir('valid')\n",
    "    os.mkdir('test')\n",
    "    \n",
    "    for i in range(0, 10):\n",
    "        shutil.move(f'{i}', 'train')\n",
    "        os.mkdir(f'valid/{i}')\n",
    "        os.mkdir(f'test/{i}')\n",
    "        \n",
    "        valid_samples = random.sample(os.listdir(f'train/{i}'), 30)\n",
    "        for j in valid_samples:\n",
    "            shutil.move(f'train/{i}/{j}', f'valid/{i}')\n",
    "            \n",
    "        test_samples = random.sample(os.listdir(f'train/{i}'), 5)\n",
    "        for k in test_samples:\n",
    "            shutil.move(f'train/{i}/{k}', f'test/{i}')\n",
    "            \n",
    "os.chdir('../..')"
   ]
  },
  {
   "cell_type": "markdown",
   "id": "ad7c54cc",
   "metadata": {},
   "source": [
    "*Verifying that's working:*"
   ]
  },
  {
   "cell_type": "code",
   "execution_count": 8,
   "id": "b68d9688",
   "metadata": {},
   "outputs": [],
   "source": [
    "#for i in range(0, 10):\n",
    "#    assert len(os.listdir(f'D:/ML/DatasetSLDD/Sign-Language-Digits-Dataset/valid/{i}')) == 30\n",
    "#    assert len(os.listdir(f'D:/ML/DatasetSLDD/Sign-Language-Digits-Dataset/test/{i}')) == 5"
   ]
  },
  {
   "cell_type": "markdown",
   "id": "306cf3ae",
   "metadata": {},
   "source": [
    "**Preprocessing data**"
   ]
  },
  {
   "cell_type": "markdown",
   "id": "a85563e5",
   "metadata": {},
   "source": [
    "*First by defining train, valid and test dirs:*"
   ]
  },
  {
   "cell_type": "code",
   "execution_count": 9,
   "id": "598be172",
   "metadata": {},
   "outputs": [],
   "source": [
    "train_path = 'D:/ML/DatasetSLDD/Sign-Language-Digits-Dataset/train'\n",
    "valid_path = 'D:/ML/DatasetSLDD/Sign-Language-Digits-Dataset/valid'\n",
    "test_path = 'D:/ML/DatasetSLDD/Sign-Language-Digits-Dataset/test'"
   ]
  },
  {
   "cell_type": "markdown",
   "id": "0aab69c0",
   "metadata": {},
   "source": [
    "*Setting up directory iterators:*\n",
    "\n",
    "*1) Calling ImageDataGenerator*\n",
    "\n",
    "*2) Calling the function \"tf.keras.applications.mobilenet.preprocess_input\"*\n",
    "\n",
    "*3) Then we flow our directory*\n",
    "\n",
    "*Finally, -Train_path, targe_size, batch_size*"
   ]
  },
  {
   "cell_type": "code",
   "execution_count": 10,
   "id": "8be9b7c2",
   "metadata": {},
   "outputs": [
    {
     "name": "stdout",
     "output_type": "stream",
     "text": [
      "Found 1712 images belonging to 10 classes.\n",
      "Found 300 images belonging to 10 classes.\n",
      "Found 50 images belonging to 10 classes.\n"
     ]
    }
   ],
   "source": [
    "train_batches = ImageDataGenerator(preprocessing_function=tf.keras.applications.mobilenet.preprocess_input).flow_from_directory(\n",
    "    directory=train_path, target_size=(224, 224), batch_size=10\n",
    ")\n",
    "\n",
    "valid_batches = ImageDataGenerator(preprocessing_function=tf.keras.applications.mobilenet.preprocess_input).flow_from_directory(\n",
    "    directory=valid_path, target_size=(224, 224), batch_size=10\n",
    ")\n",
    "\n",
    "test_batches = ImageDataGenerator(preprocessing_function=tf.keras.applications.mobilenet.preprocess_input).flow_from_directory(\n",
    "    directory=test_path, target_size=(224, 224), batch_size=10, shuffle=False\n",
    ")"
   ]
  },
  {
   "cell_type": "code",
   "execution_count": 11,
   "id": "ea1f7b56",
   "metadata": {},
   "outputs": [],
   "source": [
    "assert train_batches.n == 1712\n",
    "assert valid_batches.n == 300\n",
    "assert test_batches.n == 50\n",
    "assert train_batches.num_classes == valid_batches.num_classes == test_batches.num_classes == 10"
   ]
  },
  {
   "cell_type": "markdown",
   "id": "d77e34c7",
   "metadata": {},
   "source": [
    "# Modify Model"
   ]
  },
  {
   "cell_type": "markdown",
   "id": "838917a0",
   "metadata": {},
   "source": [
    "**Importing mobilenet**"
   ]
  },
  {
   "cell_type": "code",
   "execution_count": 12,
   "id": "efbcd31f",
   "metadata": {},
   "outputs": [],
   "source": [
    "mobile = tf.keras.applications.mobilenet.MobileNet()"
   ]
  },
  {
   "cell_type": "code",
   "execution_count": 13,
   "id": "042cd968",
   "metadata": {},
   "outputs": [
    {
     "name": "stdout",
     "output_type": "stream",
     "text": [
      "Model: \"mobilenet_1.00_224\"\n",
      "_________________________________________________________________\n",
      " Layer (type)                Output Shape              Param #   \n",
      "=================================================================\n",
      " input_1 (InputLayer)        [(None, 224, 224, 3)]     0         \n",
      "                                                                 \n",
      " conv1 (Conv2D)              (None, 112, 112, 32)      864       \n",
      "                                                                 \n",
      " conv1_bn (BatchNormalizatio  (None, 112, 112, 32)     128       \n",
      " n)                                                              \n",
      "                                                                 \n",
      " conv1_relu (ReLU)           (None, 112, 112, 32)      0         \n",
      "                                                                 \n",
      " conv_dw_1 (DepthwiseConv2D)  (None, 112, 112, 32)     288       \n",
      "                                                                 \n",
      " conv_dw_1_bn (BatchNormaliz  (None, 112, 112, 32)     128       \n",
      " ation)                                                          \n",
      "                                                                 \n",
      " conv_dw_1_relu (ReLU)       (None, 112, 112, 32)      0         \n",
      "                                                                 \n",
      " conv_pw_1 (Conv2D)          (None, 112, 112, 64)      2048      \n",
      "                                                                 \n",
      " conv_pw_1_bn (BatchNormaliz  (None, 112, 112, 64)     256       \n",
      " ation)                                                          \n",
      "                                                                 \n",
      " conv_pw_1_relu (ReLU)       (None, 112, 112, 64)      0         \n",
      "                                                                 \n",
      " conv_pad_2 (ZeroPadding2D)  (None, 113, 113, 64)      0         \n",
      "                                                                 \n",
      " conv_dw_2 (DepthwiseConv2D)  (None, 56, 56, 64)       576       \n",
      "                                                                 \n",
      " conv_dw_2_bn (BatchNormaliz  (None, 56, 56, 64)       256       \n",
      " ation)                                                          \n",
      "                                                                 \n",
      " conv_dw_2_relu (ReLU)       (None, 56, 56, 64)        0         \n",
      "                                                                 \n",
      " conv_pw_2 (Conv2D)          (None, 56, 56, 128)       8192      \n",
      "                                                                 \n",
      " conv_pw_2_bn (BatchNormaliz  (None, 56, 56, 128)      512       \n",
      " ation)                                                          \n",
      "                                                                 \n",
      " conv_pw_2_relu (ReLU)       (None, 56, 56, 128)       0         \n",
      "                                                                 \n",
      " conv_dw_3 (DepthwiseConv2D)  (None, 56, 56, 128)      1152      \n",
      "                                                                 \n",
      " conv_dw_3_bn (BatchNormaliz  (None, 56, 56, 128)      512       \n",
      " ation)                                                          \n",
      "                                                                 \n",
      " conv_dw_3_relu (ReLU)       (None, 56, 56, 128)       0         \n",
      "                                                                 \n",
      " conv_pw_3 (Conv2D)          (None, 56, 56, 128)       16384     \n",
      "                                                                 \n",
      " conv_pw_3_bn (BatchNormaliz  (None, 56, 56, 128)      512       \n",
      " ation)                                                          \n",
      "                                                                 \n",
      " conv_pw_3_relu (ReLU)       (None, 56, 56, 128)       0         \n",
      "                                                                 \n",
      " conv_pad_4 (ZeroPadding2D)  (None, 57, 57, 128)       0         \n",
      "                                                                 \n",
      " conv_dw_4 (DepthwiseConv2D)  (None, 28, 28, 128)      1152      \n",
      "                                                                 \n",
      " conv_dw_4_bn (BatchNormaliz  (None, 28, 28, 128)      512       \n",
      " ation)                                                          \n",
      "                                                                 \n",
      " conv_dw_4_relu (ReLU)       (None, 28, 28, 128)       0         \n",
      "                                                                 \n",
      " conv_pw_4 (Conv2D)          (None, 28, 28, 256)       32768     \n",
      "                                                                 \n",
      " conv_pw_4_bn (BatchNormaliz  (None, 28, 28, 256)      1024      \n",
      " ation)                                                          \n",
      "                                                                 \n",
      " conv_pw_4_relu (ReLU)       (None, 28, 28, 256)       0         \n",
      "                                                                 \n",
      " conv_dw_5 (DepthwiseConv2D)  (None, 28, 28, 256)      2304      \n",
      "                                                                 \n",
      " conv_dw_5_bn (BatchNormaliz  (None, 28, 28, 256)      1024      \n",
      " ation)                                                          \n",
      "                                                                 \n",
      " conv_dw_5_relu (ReLU)       (None, 28, 28, 256)       0         \n",
      "                                                                 \n",
      " conv_pw_5 (Conv2D)          (None, 28, 28, 256)       65536     \n",
      "                                                                 \n",
      " conv_pw_5_bn (BatchNormaliz  (None, 28, 28, 256)      1024      \n",
      " ation)                                                          \n",
      "                                                                 \n",
      " conv_pw_5_relu (ReLU)       (None, 28, 28, 256)       0         \n",
      "                                                                 \n",
      " conv_pad_6 (ZeroPadding2D)  (None, 29, 29, 256)       0         \n",
      "                                                                 \n",
      " conv_dw_6 (DepthwiseConv2D)  (None, 14, 14, 256)      2304      \n",
      "                                                                 \n",
      " conv_dw_6_bn (BatchNormaliz  (None, 14, 14, 256)      1024      \n",
      " ation)                                                          \n",
      "                                                                 \n",
      " conv_dw_6_relu (ReLU)       (None, 14, 14, 256)       0         \n",
      "                                                                 \n",
      " conv_pw_6 (Conv2D)          (None, 14, 14, 512)       131072    \n",
      "                                                                 \n",
      " conv_pw_6_bn (BatchNormaliz  (None, 14, 14, 512)      2048      \n",
      " ation)                                                          \n",
      "                                                                 \n",
      " conv_pw_6_relu (ReLU)       (None, 14, 14, 512)       0         \n",
      "                                                                 \n",
      " conv_dw_7 (DepthwiseConv2D)  (None, 14, 14, 512)      4608      \n",
      "                                                                 \n",
      " conv_dw_7_bn (BatchNormaliz  (None, 14, 14, 512)      2048      \n",
      " ation)                                                          \n",
      "                                                                 \n",
      " conv_dw_7_relu (ReLU)       (None, 14, 14, 512)       0         \n",
      "                                                                 \n",
      " conv_pw_7 (Conv2D)          (None, 14, 14, 512)       262144    \n",
      "                                                                 \n",
      " conv_pw_7_bn (BatchNormaliz  (None, 14, 14, 512)      2048      \n",
      " ation)                                                          \n",
      "                                                                 \n",
      " conv_pw_7_relu (ReLU)       (None, 14, 14, 512)       0         \n",
      "                                                                 \n",
      " conv_dw_8 (DepthwiseConv2D)  (None, 14, 14, 512)      4608      \n",
      "                                                                 \n",
      " conv_dw_8_bn (BatchNormaliz  (None, 14, 14, 512)      2048      \n",
      " ation)                                                          \n",
      "                                                                 \n",
      " conv_dw_8_relu (ReLU)       (None, 14, 14, 512)       0         \n",
      "                                                                 \n",
      " conv_pw_8 (Conv2D)          (None, 14, 14, 512)       262144    \n",
      "                                                                 \n",
      " conv_pw_8_bn (BatchNormaliz  (None, 14, 14, 512)      2048      \n",
      " ation)                                                          \n",
      "                                                                 \n",
      " conv_pw_8_relu (ReLU)       (None, 14, 14, 512)       0         \n",
      "                                                                 \n",
      " conv_dw_9 (DepthwiseConv2D)  (None, 14, 14, 512)      4608      \n",
      "                                                                 \n",
      " conv_dw_9_bn (BatchNormaliz  (None, 14, 14, 512)      2048      \n",
      " ation)                                                          \n",
      "                                                                 \n",
      " conv_dw_9_relu (ReLU)       (None, 14, 14, 512)       0         \n",
      "                                                                 \n",
      " conv_pw_9 (Conv2D)          (None, 14, 14, 512)       262144    \n",
      "                                                                 \n",
      " conv_pw_9_bn (BatchNormaliz  (None, 14, 14, 512)      2048      \n",
      " ation)                                                          \n",
      "                                                                 \n",
      " conv_pw_9_relu (ReLU)       (None, 14, 14, 512)       0         \n",
      "                                                                 \n",
      " conv_dw_10 (DepthwiseConv2D  (None, 14, 14, 512)      4608      \n",
      " )                                                               \n",
      "                                                                 \n",
      " conv_dw_10_bn (BatchNormali  (None, 14, 14, 512)      2048      \n",
      " zation)                                                         \n",
      "                                                                 \n",
      " conv_dw_10_relu (ReLU)      (None, 14, 14, 512)       0         \n",
      "                                                                 \n",
      " conv_pw_10 (Conv2D)         (None, 14, 14, 512)       262144    \n",
      "                                                                 \n",
      " conv_pw_10_bn (BatchNormali  (None, 14, 14, 512)      2048      \n",
      " zation)                                                         \n",
      "                                                                 \n",
      " conv_pw_10_relu (ReLU)      (None, 14, 14, 512)       0         \n",
      "                                                                 \n",
      " conv_dw_11 (DepthwiseConv2D  (None, 14, 14, 512)      4608      \n",
      " )                                                               \n",
      "                                                                 \n",
      " conv_dw_11_bn (BatchNormali  (None, 14, 14, 512)      2048      \n",
      " zation)                                                         \n",
      "                                                                 \n",
      " conv_dw_11_relu (ReLU)      (None, 14, 14, 512)       0         \n",
      "                                                                 \n",
      " conv_pw_11 (Conv2D)         (None, 14, 14, 512)       262144    \n",
      "                                                                 \n",
      " conv_pw_11_bn (BatchNormali  (None, 14, 14, 512)      2048      \n",
      " zation)                                                         \n",
      "                                                                 \n",
      " conv_pw_11_relu (ReLU)      (None, 14, 14, 512)       0         \n",
      "                                                                 \n",
      " conv_pad_12 (ZeroPadding2D)  (None, 15, 15, 512)      0         \n",
      "                                                                 \n",
      " conv_dw_12 (DepthwiseConv2D  (None, 7, 7, 512)        4608      \n",
      " )                                                               \n",
      "                                                                 \n",
      " conv_dw_12_bn (BatchNormali  (None, 7, 7, 512)        2048      \n",
      " zation)                                                         \n",
      "                                                                 \n",
      " conv_dw_12_relu (ReLU)      (None, 7, 7, 512)         0         \n",
      "                                                                 \n",
      " conv_pw_12 (Conv2D)         (None, 7, 7, 1024)        524288    \n",
      "                                                                 \n",
      " conv_pw_12_bn (BatchNormali  (None, 7, 7, 1024)       4096      \n",
      " zation)                                                         \n",
      "                                                                 \n",
      " conv_pw_12_relu (ReLU)      (None, 7, 7, 1024)        0         \n",
      "                                                                 \n",
      " conv_dw_13 (DepthwiseConv2D  (None, 7, 7, 1024)       9216      \n",
      " )                                                               \n",
      "                                                                 \n",
      " conv_dw_13_bn (BatchNormali  (None, 7, 7, 1024)       4096      \n",
      " zation)                                                         \n",
      "                                                                 \n",
      " conv_dw_13_relu (ReLU)      (None, 7, 7, 1024)        0         \n",
      "                                                                 \n",
      " conv_pw_13 (Conv2D)         (None, 7, 7, 1024)        1048576   \n",
      "                                                                 \n",
      " conv_pw_13_bn (BatchNormali  (None, 7, 7, 1024)       4096      \n",
      " zation)                                                         \n",
      "                                                                 \n",
      " conv_pw_13_relu (ReLU)      (None, 7, 7, 1024)        0         \n",
      "                                                                 \n",
      " global_average_pooling2d (G  (None, 1, 1, 1024)       0         \n",
      " lobalAveragePooling2D)                                          \n",
      "                                                                 \n",
      " dropout (Dropout)           (None, 1, 1, 1024)        0         \n",
      "                                                                 \n",
      " conv_preds (Conv2D)         (None, 1, 1, 1000)        1025000   \n",
      "                                                                 \n",
      " reshape_2 (Reshape)         (None, 1000)              0         \n",
      "                                                                 \n",
      " predictions (Activation)    (None, 1000)              0         \n",
      "                                                                 \n",
      "=================================================================\n",
      "Total params: 4,253,864\n",
      "Trainable params: 4,231,976\n",
      "Non-trainable params: 21,888\n",
      "_________________________________________________________________\n"
     ]
    }
   ],
   "source": [
    "mobile.summary()"
   ]
  },
  {
   "cell_type": "code",
   "execution_count": 14,
   "id": "0d336b1a",
   "metadata": {},
   "outputs": [],
   "source": [
    "def count_params(model):\n",
    "    non_trainable_params = np.sum([np.prod(v.get_shape().as_list()) for v in model.non_trainable_weights])\n",
    "    trainable_params = np.sum([np.prod(v.get_shape().as_list()) for v in model.trainable_weights])\n",
    "    return {'non_trainable_params': non_trainable_params, 'trainable_params': trainable_params}"
   ]
  },
  {
   "cell_type": "code",
   "execution_count": 15,
   "id": "cd40d3bc",
   "metadata": {},
   "outputs": [],
   "source": [
    "params = count_params(mobile)\n",
    "assert params['non_trainable_params'] == 21888\n",
    "assert params['trainable_params'] == 4231976"
   ]
  },
  {
   "cell_type": "markdown",
   "id": "30891c70",
   "metadata": {},
   "source": [
    "**By[-6] we are taking all params but the last 5 ones from the model above and keeping up with the rest for our model**\n",
    "\n",
    "*We are also going to create a variable called \"output\"*\n",
    "\n",
    "*So undesrtand (x) is going to be taken because it is a functional model instead of a Sequential model*\n",
    "\n",
    "*Also, (x) will pass all of the previous layers stored in (x)*"
   ]
  },
  {
   "cell_type": "code",
   "execution_count": 16,
   "id": "f4561c11",
   "metadata": {},
   "outputs": [],
   "source": [
    "x = mobile.layers[-6].output\n",
    "x = GlobalAveragePooling2D()(x)\n",
    "output = Dense(units=10, activation='softmax')(x)"
   ]
  },
  {
   "cell_type": "markdown",
   "id": "b6a8e2f5",
   "metadata": {},
   "source": [
    "*Output is all of the mobile netmodel up to sixth layer plus the Dense layer*"
   ]
  },
  {
   "cell_type": "code",
   "execution_count": 17,
   "id": "7957c35d",
   "metadata": {},
   "outputs": [],
   "source": [
    "model = Model(inputs=mobile.input, outputs=output)"
   ]
  },
  {
   "cell_type": "markdown",
   "id": "dfa7d0b3",
   "metadata": {},
   "source": [
    "*After both cells above our model will be created*"
   ]
  },
  {
   "cell_type": "markdown",
   "id": "f079c283",
   "metadata": {},
   "source": [
    "**Understand, relatively, there're 88 total layers in the model. So we only want to train the last 23 layers**"
   ]
  },
  {
   "cell_type": "code",
   "execution_count": 18,
   "id": "5eb64f79",
   "metadata": {},
   "outputs": [],
   "source": [
    "for layer in model.layers[:-23]: #We want only the last layers to be trainable\n",
    "    layer.trainable = False #Except for the last 23, make those not trainable"
   ]
  },
  {
   "cell_type": "markdown",
   "id": "206d4bdd",
   "metadata": {},
   "source": [
    "*Now, let's take a look at our new model:*"
   ]
  },
  {
   "cell_type": "code",
   "execution_count": 19,
   "id": "b12dc9c2",
   "metadata": {},
   "outputs": [
    {
     "name": "stdout",
     "output_type": "stream",
     "text": [
      "Model: \"model\"\n",
      "_________________________________________________________________\n",
      " Layer (type)                Output Shape              Param #   \n",
      "=================================================================\n",
      " input_1 (InputLayer)        [(None, 224, 224, 3)]     0         \n",
      "                                                                 \n",
      " conv1 (Conv2D)              (None, 112, 112, 32)      864       \n",
      "                                                                 \n",
      " conv1_bn (BatchNormalizatio  (None, 112, 112, 32)     128       \n",
      " n)                                                              \n",
      "                                                                 \n",
      " conv1_relu (ReLU)           (None, 112, 112, 32)      0         \n",
      "                                                                 \n",
      " conv_dw_1 (DepthwiseConv2D)  (None, 112, 112, 32)     288       \n",
      "                                                                 \n",
      " conv_dw_1_bn (BatchNormaliz  (None, 112, 112, 32)     128       \n",
      " ation)                                                          \n",
      "                                                                 \n",
      " conv_dw_1_relu (ReLU)       (None, 112, 112, 32)      0         \n",
      "                                                                 \n",
      " conv_pw_1 (Conv2D)          (None, 112, 112, 64)      2048      \n",
      "                                                                 \n",
      " conv_pw_1_bn (BatchNormaliz  (None, 112, 112, 64)     256       \n",
      " ation)                                                          \n",
      "                                                                 \n",
      " conv_pw_1_relu (ReLU)       (None, 112, 112, 64)      0         \n",
      "                                                                 \n",
      " conv_pad_2 (ZeroPadding2D)  (None, 113, 113, 64)      0         \n",
      "                                                                 \n",
      " conv_dw_2 (DepthwiseConv2D)  (None, 56, 56, 64)       576       \n",
      "                                                                 \n",
      " conv_dw_2_bn (BatchNormaliz  (None, 56, 56, 64)       256       \n",
      " ation)                                                          \n",
      "                                                                 \n",
      " conv_dw_2_relu (ReLU)       (None, 56, 56, 64)        0         \n",
      "                                                                 \n",
      " conv_pw_2 (Conv2D)          (None, 56, 56, 128)       8192      \n",
      "                                                                 \n",
      " conv_pw_2_bn (BatchNormaliz  (None, 56, 56, 128)      512       \n",
      " ation)                                                          \n",
      "                                                                 \n",
      " conv_pw_2_relu (ReLU)       (None, 56, 56, 128)       0         \n",
      "                                                                 \n",
      " conv_dw_3 (DepthwiseConv2D)  (None, 56, 56, 128)      1152      \n",
      "                                                                 \n",
      " conv_dw_3_bn (BatchNormaliz  (None, 56, 56, 128)      512       \n",
      " ation)                                                          \n",
      "                                                                 \n",
      " conv_dw_3_relu (ReLU)       (None, 56, 56, 128)       0         \n",
      "                                                                 \n",
      " conv_pw_3 (Conv2D)          (None, 56, 56, 128)       16384     \n",
      "                                                                 \n",
      " conv_pw_3_bn (BatchNormaliz  (None, 56, 56, 128)      512       \n",
      " ation)                                                          \n",
      "                                                                 \n",
      " conv_pw_3_relu (ReLU)       (None, 56, 56, 128)       0         \n",
      "                                                                 \n",
      " conv_pad_4 (ZeroPadding2D)  (None, 57, 57, 128)       0         \n",
      "                                                                 \n",
      " conv_dw_4 (DepthwiseConv2D)  (None, 28, 28, 128)      1152      \n",
      "                                                                 \n",
      " conv_dw_4_bn (BatchNormaliz  (None, 28, 28, 128)      512       \n",
      " ation)                                                          \n",
      "                                                                 \n",
      " conv_dw_4_relu (ReLU)       (None, 28, 28, 128)       0         \n",
      "                                                                 \n",
      " conv_pw_4 (Conv2D)          (None, 28, 28, 256)       32768     \n",
      "                                                                 \n",
      " conv_pw_4_bn (BatchNormaliz  (None, 28, 28, 256)      1024      \n",
      " ation)                                                          \n",
      "                                                                 \n",
      " conv_pw_4_relu (ReLU)       (None, 28, 28, 256)       0         \n",
      "                                                                 \n",
      " conv_dw_5 (DepthwiseConv2D)  (None, 28, 28, 256)      2304      \n",
      "                                                                 \n",
      " conv_dw_5_bn (BatchNormaliz  (None, 28, 28, 256)      1024      \n",
      " ation)                                                          \n",
      "                                                                 \n",
      " conv_dw_5_relu (ReLU)       (None, 28, 28, 256)       0         \n",
      "                                                                 \n",
      " conv_pw_5 (Conv2D)          (None, 28, 28, 256)       65536     \n",
      "                                                                 \n",
      " conv_pw_5_bn (BatchNormaliz  (None, 28, 28, 256)      1024      \n",
      " ation)                                                          \n",
      "                                                                 \n",
      " conv_pw_5_relu (ReLU)       (None, 28, 28, 256)       0         \n",
      "                                                                 \n",
      " conv_pad_6 (ZeroPadding2D)  (None, 29, 29, 256)       0         \n",
      "                                                                 \n",
      " conv_dw_6 (DepthwiseConv2D)  (None, 14, 14, 256)      2304      \n",
      "                                                                 \n",
      " conv_dw_6_bn (BatchNormaliz  (None, 14, 14, 256)      1024      \n",
      " ation)                                                          \n",
      "                                                                 \n",
      " conv_dw_6_relu (ReLU)       (None, 14, 14, 256)       0         \n",
      "                                                                 \n",
      " conv_pw_6 (Conv2D)          (None, 14, 14, 512)       131072    \n",
      "                                                                 \n",
      " conv_pw_6_bn (BatchNormaliz  (None, 14, 14, 512)      2048      \n",
      " ation)                                                          \n",
      "                                                                 \n",
      " conv_pw_6_relu (ReLU)       (None, 14, 14, 512)       0         \n",
      "                                                                 \n",
      " conv_dw_7 (DepthwiseConv2D)  (None, 14, 14, 512)      4608      \n",
      "                                                                 \n",
      " conv_dw_7_bn (BatchNormaliz  (None, 14, 14, 512)      2048      \n",
      " ation)                                                          \n",
      "                                                                 \n",
      " conv_dw_7_relu (ReLU)       (None, 14, 14, 512)       0         \n",
      "                                                                 \n",
      " conv_pw_7 (Conv2D)          (None, 14, 14, 512)       262144    \n",
      "                                                                 \n",
      " conv_pw_7_bn (BatchNormaliz  (None, 14, 14, 512)      2048      \n",
      " ation)                                                          \n",
      "                                                                 \n",
      " conv_pw_7_relu (ReLU)       (None, 14, 14, 512)       0         \n",
      "                                                                 \n",
      " conv_dw_8 (DepthwiseConv2D)  (None, 14, 14, 512)      4608      \n",
      "                                                                 \n",
      " conv_dw_8_bn (BatchNormaliz  (None, 14, 14, 512)      2048      \n",
      " ation)                                                          \n",
      "                                                                 \n",
      " conv_dw_8_relu (ReLU)       (None, 14, 14, 512)       0         \n",
      "                                                                 \n",
      " conv_pw_8 (Conv2D)          (None, 14, 14, 512)       262144    \n",
      "                                                                 \n",
      " conv_pw_8_bn (BatchNormaliz  (None, 14, 14, 512)      2048      \n",
      " ation)                                                          \n",
      "                                                                 \n",
      " conv_pw_8_relu (ReLU)       (None, 14, 14, 512)       0         \n",
      "                                                                 \n",
      " conv_dw_9 (DepthwiseConv2D)  (None, 14, 14, 512)      4608      \n",
      "                                                                 \n",
      " conv_dw_9_bn (BatchNormaliz  (None, 14, 14, 512)      2048      \n",
      " ation)                                                          \n",
      "                                                                 \n",
      " conv_dw_9_relu (ReLU)       (None, 14, 14, 512)       0         \n",
      "                                                                 \n",
      " conv_pw_9 (Conv2D)          (None, 14, 14, 512)       262144    \n",
      "                                                                 \n",
      " conv_pw_9_bn (BatchNormaliz  (None, 14, 14, 512)      2048      \n",
      " ation)                                                          \n",
      "                                                                 \n",
      " conv_pw_9_relu (ReLU)       (None, 14, 14, 512)       0         \n",
      "                                                                 \n",
      " conv_dw_10 (DepthwiseConv2D  (None, 14, 14, 512)      4608      \n",
      " )                                                               \n",
      "                                                                 \n",
      " conv_dw_10_bn (BatchNormali  (None, 14, 14, 512)      2048      \n",
      " zation)                                                         \n",
      "                                                                 \n",
      " conv_dw_10_relu (ReLU)      (None, 14, 14, 512)       0         \n",
      "                                                                 \n",
      " conv_pw_10 (Conv2D)         (None, 14, 14, 512)       262144    \n",
      "                                                                 \n",
      " conv_pw_10_bn (BatchNormali  (None, 14, 14, 512)      2048      \n",
      " zation)                                                         \n",
      "                                                                 \n",
      " conv_pw_10_relu (ReLU)      (None, 14, 14, 512)       0         \n",
      "                                                                 \n",
      " conv_dw_11 (DepthwiseConv2D  (None, 14, 14, 512)      4608      \n",
      " )                                                               \n",
      "                                                                 \n",
      " conv_dw_11_bn (BatchNormali  (None, 14, 14, 512)      2048      \n",
      " zation)                                                         \n",
      "                                                                 \n",
      " conv_dw_11_relu (ReLU)      (None, 14, 14, 512)       0         \n",
      "                                                                 \n",
      " conv_pw_11 (Conv2D)         (None, 14, 14, 512)       262144    \n",
      "                                                                 \n",
      " conv_pw_11_bn (BatchNormali  (None, 14, 14, 512)      2048      \n",
      " zation)                                                         \n",
      "                                                                 \n",
      " conv_pw_11_relu (ReLU)      (None, 14, 14, 512)       0         \n",
      "                                                                 \n",
      " conv_pad_12 (ZeroPadding2D)  (None, 15, 15, 512)      0         \n",
      "                                                                 \n",
      " conv_dw_12 (DepthwiseConv2D  (None, 7, 7, 512)        4608      \n",
      " )                                                               \n",
      "                                                                 \n",
      " conv_dw_12_bn (BatchNormali  (None, 7, 7, 512)        2048      \n",
      " zation)                                                         \n",
      "                                                                 \n",
      " conv_dw_12_relu (ReLU)      (None, 7, 7, 512)         0         \n",
      "                                                                 \n",
      " conv_pw_12 (Conv2D)         (None, 7, 7, 1024)        524288    \n",
      "                                                                 \n",
      " conv_pw_12_bn (BatchNormali  (None, 7, 7, 1024)       4096      \n",
      " zation)                                                         \n",
      "                                                                 \n",
      " conv_pw_12_relu (ReLU)      (None, 7, 7, 1024)        0         \n",
      "                                                                 \n",
      " conv_dw_13 (DepthwiseConv2D  (None, 7, 7, 1024)       9216      \n",
      " )                                                               \n",
      "                                                                 \n",
      " conv_dw_13_bn (BatchNormali  (None, 7, 7, 1024)       4096      \n",
      " zation)                                                         \n",
      "                                                                 \n",
      " conv_dw_13_relu (ReLU)      (None, 7, 7, 1024)        0         \n",
      "                                                                 \n",
      " conv_pw_13 (Conv2D)         (None, 7, 7, 1024)        1048576   \n",
      "                                                                 \n",
      " conv_pw_13_bn (BatchNormali  (None, 7, 7, 1024)       4096      \n",
      " zation)                                                         \n",
      "                                                                 \n",
      " conv_pw_13_relu (ReLU)      (None, 7, 7, 1024)        0         \n",
      "                                                                 \n",
      " global_average_pooling2d_1   (None, 1024)             0         \n",
      " (GlobalAveragePooling2D)                                        \n",
      "                                                                 \n",
      " dense (Dense)               (None, 10)                10250     \n",
      "                                                                 \n",
      "=================================================================\n",
      "Total params: 3,239,114\n",
      "Trainable params: 1,873,930\n",
      "Non-trainable params: 1,365,184\n",
      "_________________________________________________________________\n"
     ]
    }
   ],
   "source": [
    "model.summary()"
   ]
  },
  {
   "cell_type": "code",
   "execution_count": 20,
   "id": "3b2d8f36",
   "metadata": {},
   "outputs": [],
   "source": [
    "def count_params(model):\n",
    "    non_trainable_params = np.sum([np.prod(v.get_shape().as_list()) for v in model.non_trainable_weights])\n",
    "    trainable_params = np.sum([np.prod(v.get_shape().as_list()) for v in model.trainable_weights])\n",
    "    return {'non_trainable_params': non_trainable_params, 'trainable_params': trainable_params}"
   ]
  },
  {
   "cell_type": "code",
   "execution_count": 21,
   "id": "f5ad4625",
   "metadata": {},
   "outputs": [],
   "source": [
    "params = count_params(model)\n",
    "assert params['non_trainable_params'] == 1365184\n",
    "assert params['trainable_params'] == 1873930"
   ]
  },
  {
   "cell_type": "markdown",
   "id": "867e3053",
   "metadata": {},
   "source": [
    "**So if you want to check the number of params without looking at the model, you can use the cell bellow**"
   ]
  },
  {
   "cell_type": "code",
   "execution_count": 22,
   "id": "38f54e88",
   "metadata": {},
   "outputs": [],
   "source": [
    "#params = count_params(model)\n",
    "#assert params['non_trainable_params'] == expected_non_trainable_params\n",
    "#assert params['trainable_params'] == expected_trainable_params"
   ]
  },
  {
   "cell_type": "markdown",
   "id": "5f647524",
   "metadata": {},
   "source": [
    "# Train Model"
   ]
  },
  {
   "cell_type": "code",
   "execution_count": 23,
   "id": "fe41a89d",
   "metadata": {},
   "outputs": [],
   "source": [
    "model.compile(optimizer=Adam(learning_rate=0.0001), loss='categorical_crossentropy', metrics=['accuracy'])"
   ]
  },
  {
   "cell_type": "markdown",
   "id": "1488d1d4",
   "metadata": {},
   "source": [
    "*Set epochs=30 for better results. You could also set epochs=10, then you'd probably better undertand the accuracy distribution on the confusion matrix.*"
   ]
  },
  {
   "cell_type": "code",
   "execution_count": 24,
   "id": "76b05da8",
   "metadata": {},
   "outputs": [
    {
     "name": "stdout",
     "output_type": "stream",
     "text": [
      "Epoch 1/30\n",
      "172/172 - 265s - loss: 0.6805 - accuracy: 0.8160 - val_loss: 0.3880 - val_accuracy: 0.8900 - 265s/epoch - 2s/step\n",
      "Epoch 2/30\n",
      "172/172 - 216s - loss: 0.1170 - accuracy: 0.9842 - val_loss: 0.1038 - val_accuracy: 0.9600 - 216s/epoch - 1s/step\n",
      "Epoch 3/30\n",
      "172/172 - 228s - loss: 0.0589 - accuracy: 0.9930 - val_loss: 0.0702 - val_accuracy: 0.9767 - 228s/epoch - 1s/step\n",
      "Epoch 4/30\n",
      "172/172 - 236s - loss: 0.0370 - accuracy: 0.9965 - val_loss: 0.0504 - val_accuracy: 0.9867 - 236s/epoch - 1s/step\n",
      "Epoch 5/30\n",
      "172/172 - 242s - loss: 0.0249 - accuracy: 0.9982 - val_loss: 0.0426 - val_accuracy: 0.9833 - 242s/epoch - 1s/step\n",
      "Epoch 6/30\n",
      "172/172 - 223s - loss: 0.0160 - accuracy: 0.9994 - val_loss: 0.0425 - val_accuracy: 0.9900 - 223s/epoch - 1s/step\n",
      "Epoch 7/30\n",
      "172/172 - 245s - loss: 0.0141 - accuracy: 0.9988 - val_loss: 0.0331 - val_accuracy: 0.9900 - 245s/epoch - 1s/step\n",
      "Epoch 8/30\n",
      "172/172 - 252s - loss: 0.0133 - accuracy: 0.9982 - val_loss: 0.0315 - val_accuracy: 0.9933 - 252s/epoch - 1s/step\n",
      "Epoch 9/30\n",
      "172/172 - 223s - loss: 0.0083 - accuracy: 1.0000 - val_loss: 0.0267 - val_accuracy: 0.9933 - 223s/epoch - 1s/step\n",
      "Epoch 10/30\n",
      "172/172 - 229s - loss: 0.0102 - accuracy: 0.9988 - val_loss: 0.0442 - val_accuracy: 0.9900 - 229s/epoch - 1s/step\n",
      "Epoch 11/30\n",
      "172/172 - 222s - loss: 0.0122 - accuracy: 0.9988 - val_loss: 0.0307 - val_accuracy: 0.9933 - 222s/epoch - 1s/step\n",
      "Epoch 12/30\n",
      "172/172 - 218s - loss: 0.0129 - accuracy: 0.9988 - val_loss: 0.0332 - val_accuracy: 0.9900 - 218s/epoch - 1s/step\n",
      "Epoch 13/30\n",
      "172/172 - 221s - loss: 0.0064 - accuracy: 0.9994 - val_loss: 0.0302 - val_accuracy: 0.9867 - 221s/epoch - 1s/step\n",
      "Epoch 14/30\n",
      "172/172 - 216s - loss: 0.0057 - accuracy: 1.0000 - val_loss: 0.0232 - val_accuracy: 0.9867 - 216s/epoch - 1s/step\n",
      "Epoch 15/30\n",
      "172/172 - 236s - loss: 0.0051 - accuracy: 0.9994 - val_loss: 0.0292 - val_accuracy: 0.9900 - 236s/epoch - 1s/step\n",
      "Epoch 16/30\n",
      "172/172 - 256s - loss: 0.0079 - accuracy: 0.9988 - val_loss: 0.0275 - val_accuracy: 0.9867 - 256s/epoch - 1s/step\n",
      "Epoch 17/30\n",
      "172/172 - 233s - loss: 0.0072 - accuracy: 0.9977 - val_loss: 0.0303 - val_accuracy: 0.9900 - 233s/epoch - 1s/step\n",
      "Epoch 18/30\n",
      "172/172 - 227s - loss: 0.0057 - accuracy: 0.9994 - val_loss: 0.0327 - val_accuracy: 0.9833 - 227s/epoch - 1s/step\n",
      "Epoch 19/30\n",
      "172/172 - 234s - loss: 0.0033 - accuracy: 1.0000 - val_loss: 0.0223 - val_accuracy: 0.9933 - 234s/epoch - 1s/step\n",
      "Epoch 20/30\n",
      "172/172 - 241s - loss: 0.0017 - accuracy: 1.0000 - val_loss: 0.0302 - val_accuracy: 0.9933 - 241s/epoch - 1s/step\n",
      "Epoch 21/30\n",
      "172/172 - 223s - loss: 0.0025 - accuracy: 1.0000 - val_loss: 0.0336 - val_accuracy: 0.9833 - 223s/epoch - 1s/step\n",
      "Epoch 22/30\n",
      "172/172 - 224s - loss: 0.0042 - accuracy: 0.9988 - val_loss: 0.0451 - val_accuracy: 0.9900 - 224s/epoch - 1s/step\n",
      "Epoch 23/30\n",
      "172/172 - 223s - loss: 0.0015 - accuracy: 1.0000 - val_loss: 0.0218 - val_accuracy: 0.9933 - 223s/epoch - 1s/step\n",
      "Epoch 24/30\n",
      "172/172 - 218s - loss: 0.0020 - accuracy: 1.0000 - val_loss: 0.0193 - val_accuracy: 0.9967 - 218s/epoch - 1s/step\n",
      "Epoch 25/30\n",
      "172/172 - 3231s - loss: 0.0032 - accuracy: 0.9988 - val_loss: 0.0353 - val_accuracy: 0.9900 - 3231s/epoch - 19s/step\n",
      "Epoch 26/30\n",
      "172/172 - 127s - loss: 0.0025 - accuracy: 1.0000 - val_loss: 0.0858 - val_accuracy: 0.9767 - 127s/epoch - 739ms/step\n",
      "Epoch 27/30\n",
      "172/172 - 181s - loss: 0.0041 - accuracy: 0.9988 - val_loss: 0.0990 - val_accuracy: 0.9767 - 181s/epoch - 1s/step\n",
      "Epoch 28/30\n",
      "172/172 - 200s - loss: 0.0026 - accuracy: 1.0000 - val_loss: 0.0427 - val_accuracy: 0.9900 - 200s/epoch - 1s/step\n",
      "Epoch 29/30\n",
      "172/172 - 205s - loss: 0.0033 - accuracy: 1.0000 - val_loss: 0.0356 - val_accuracy: 0.9933 - 205s/epoch - 1s/step\n",
      "Epoch 30/30\n",
      "172/172 - 210s - loss: 0.0032 - accuracy: 1.0000 - val_loss: 0.0280 - val_accuracy: 0.9900 - 210s/epoch - 1s/step\n"
     ]
    },
    {
     "data": {
      "text/plain": [
       "<keras.callbacks.History at 0x13754c6e4f0>"
      ]
     },
     "execution_count": 24,
     "metadata": {},
     "output_type": "execute_result"
    }
   ],
   "source": [
    "model.fit(x=train_batches, validation_data=valid_batches, epochs=30, verbose=2)"
   ]
  },
  {
   "cell_type": "markdown",
   "id": "3d9d3c03",
   "metadata": {},
   "source": [
    "# Predict sign language digits"
   ]
  },
  {
   "cell_type": "code",
   "execution_count": 25,
   "id": "c314a90f",
   "metadata": {},
   "outputs": [],
   "source": [
    "test_labels = test_batches.classes"
   ]
  },
  {
   "cell_type": "code",
   "execution_count": 26,
   "id": "155c69de",
   "metadata": {},
   "outputs": [],
   "source": [
    "predictions = model.predict(x=test_batches, verbose=0)"
   ]
  },
  {
   "cell_type": "code",
   "execution_count": 27,
   "id": "8f916971",
   "metadata": {},
   "outputs": [],
   "source": [
    "cm = confusion_matrix(y_true=test_labels, y_pred=predictions.argmax(axis=1))"
   ]
  },
  {
   "cell_type": "code",
   "execution_count": 28,
   "id": "2cd1b7fe",
   "metadata": {},
   "outputs": [
    {
     "data": {
      "text/plain": [
       "{'0': 0,\n",
       " '1': 1,\n",
       " '2': 2,\n",
       " '3': 3,\n",
       " '4': 4,\n",
       " '5': 5,\n",
       " '6': 6,\n",
       " '7': 7,\n",
       " '8': 8,\n",
       " '9': 9}"
      ]
     },
     "execution_count": 28,
     "metadata": {},
     "output_type": "execute_result"
    }
   ],
   "source": [
    "test_batches.class_indices"
   ]
  },
  {
   "cell_type": "code",
   "execution_count": 29,
   "id": "77e21e18",
   "metadata": {},
   "outputs": [],
   "source": [
    "predictions = model.predict(x=test_batches, verbose=0)"
   ]
  },
  {
   "cell_type": "code",
   "execution_count": 30,
   "id": "2fde6a3a",
   "metadata": {},
   "outputs": [],
   "source": [
    "def plot_confusion_matrix(cm, classes,\n",
    "                         normalize=False,\n",
    "                         title='Confusion matrix',\n",
    "                         cmap=plt.cm.Blues):\n",
    "    \"\"\"\n",
    "       This function plots and prints the confusion matrix.\n",
    "       Normalization can be applied by setting 'normalize=True'\n",
    "    \"\"\"\n",
    "    \n",
    "    plt.imshow(cm, interpolation='nearest', cmap=cmap)\n",
    "    plt.title(title)\n",
    "    plt.colorbar()\n",
    "    tick_marks = np.arange(len(classes))\n",
    "    plt.xticks(tick_marks, classes, rotation=45)\n",
    "    plt.yticks(tick_marks, classes)\n",
    "    \n",
    "    if normalize:\n",
    "        cm = cm.astype('float') / cm.sum(axis=1)[:, np.newaxis]\n",
    "        print(\"Normalized confusion matrix\")\n",
    "    else:\n",
    "        print('Confusion matrix, without normalization')\n",
    "    \n",
    "    print(cm)\n",
    "    \n",
    "    thresh = cm.max() / 2.\n",
    "    for i, j in itertools.product(range(cm.shape[0]), range(cm.shape[1])):\n",
    "        plt.text(j, i, cm[i, j],\n",
    "                horizontalalignment=\"center\",\n",
    "                color=\"white\" if cm[i, j] > thresh else \"black\")\n",
    "        \n",
    "    plt.tight_layout()\n",
    "    plt.ylabel('True label')\n",
    "    plt.xlabel('Predicted label')"
   ]
  },
  {
   "cell_type": "code",
   "execution_count": 31,
   "id": "12545260",
   "metadata": {},
   "outputs": [
    {
     "name": "stdout",
     "output_type": "stream",
     "text": [
      "Confusion matrix, without normalization\n",
      "[[5 0 0 0 0 0 0 0 0 0]\n",
      " [0 5 0 0 0 0 0 0 0 0]\n",
      " [0 0 5 0 0 0 0 0 0 0]\n",
      " [0 0 0 5 0 0 0 0 0 0]\n",
      " [0 0 0 0 5 0 0 0 0 0]\n",
      " [0 0 0 0 0 5 0 0 0 0]\n",
      " [0 0 0 0 0 0 5 0 0 0]\n",
      " [0 0 0 0 0 0 0 5 0 0]\n",
      " [0 0 0 0 0 0 0 0 5 0]\n",
      " [0 0 0 0 0 0 0 0 0 5]]\n"
     ]
    },
    {
     "data": {
      "image/png": "[encoded data removed]",
      "text/plain": [
       "<Figure size 640x480 with 2 Axes>"
      ]
     },
     "metadata": {},
     "output_type": "display_data"
    }
   ],
   "source": [
    "cm_plot_labels = ['0','1','2','3','4','5','6','7','8','9']\n",
    "plot_confusion_matrix(cm=cm, classes=cm_plot_labels, title='Confusion Matrix')"
   ]
  },
  {
   "cell_type": "code",
   "execution_count": null,
   "id": "af58bd41",
   "metadata": {},
   "outputs": [],
   "source": []
  }
 ],
 "metadata": {
  "kernelspec": {
   "display_name": "Python 3 (ipykernel)",
   "language": "python",
   "name": "python3"
  },
  "language_info": {
   "codemirror_mode": {
    "name": "ipython",
    "version": 3
   },
   "file_extension": ".py",
   "mimetype": "text/x-python",
   "name": "python",
   "nbconvert_exporter": "python",
   "pygments_lexer": "ipython3",
   "version": "3.9.13"
  }
 },
 "nbformat": 4,
 "nbformat_minor": 5
}
